{
 "cells": [
  {
   "cell_type": "markdown",
   "metadata": {},
   "source": [
    "## What is a decorator?\n",
    "- function that wraps other functions, augmenting (modifying) the wrapped function\n",
    "- I like [this](http://thecodeship.com/patterns/guide-to-python-function-decorators/) and [that](http://simeonfranklin.com/blog/2012/jul/1/python-decorators-in-12-steps/) reference\n",
    "\n",
    "## Creating and Using Decorators\n",
    "\n",
    "- create a wrapper function\n",
    "- use wrapper function as decorator\n",
    "- use wrapper function to create other decorators\n",
    "\n",
    "### Create a wrapper function\n",
    "- use functools [wraps](https://docs.python.org/2/library/functools.html)\n",
    "\n",
    "In this example I am pasting code from the module documentation."
   ]
  },
  {
   "cell_type": "code",
   "execution_count": null,
   "metadata": {
    "collapsed": true
   },
   "outputs": [],
   "source": [
    "# import wraps\n",
    "from functools import wraps"
   ]
  },
  {
   "cell_type": "code",
   "execution_count": 30,
   "metadata": {
    "collapsed": true
   },
   "outputs": [],
   "source": [
    "# example wrapper from module documentation\n",
    "def my_decorator(f):\n",
    "    @wraps(f)\n",
    "    def wrapper(*args, **kwds):\n",
    "        print 'Calling decorated function'\n",
    "        return f(*args, **kwds)\n",
    "    return wrapper"
   ]
  },
  {
   "cell_type": "code",
   "execution_count": 37,
   "metadata": {
    "collapsed": false
   },
   "outputs": [],
   "source": [
    "# an example function\n",
    "def example():\n",
    "    \"\"\"Docstring\"\"\"\n",
    "    print 'Called example function'"
   ]
  },
  {
   "cell_type": "code",
   "execution_count": 38,
   "metadata": {
    "collapsed": false
   },
   "outputs": [
    {
     "name": "stdout",
     "output_type": "stream",
     "text": [
      "Called example function\n"
     ]
    }
   ],
   "source": [
    "# call the plain old example function\n",
    "example()"
   ]
  },
  {
   "cell_type": "code",
   "execution_count": 39,
   "metadata": {
    "collapsed": false
   },
   "outputs": [
    {
     "name": "stdout",
     "output_type": "stream",
     "text": [
      "Calling decorated function\n",
      "Called example function\n"
     ]
    }
   ],
   "source": [
    "# now spruce it up a bit with closure\n",
    "example = my_decorator(example)\n",
    "example()"
   ]
  },
  {
   "cell_type": "code",
   "execution_count": 27,
   "metadata": {
    "collapsed": false
   },
   "outputs": [],
   "source": [
    "example = my_decorator(example)"
   ]
  },
  {
   "cell_type": "code",
   "execution_count": 40,
   "metadata": {
    "collapsed": false
   },
   "outputs": [],
   "source": [
    "# instead of using closure, use syntactic sugar\n",
    "@my_decorator\n",
    "def decorated_example():\n",
    "    \"\"\"Docstring\"\"\"\n",
    "    print 'Called a decorated example function'"
   ]
  },
  {
   "cell_type": "code",
   "execution_count": 41,
   "metadata": {
    "collapsed": false
   },
   "outputs": [
    {
     "name": "stdout",
     "output_type": "stream",
     "text": [
      "Calling decorated function\n",
      "Called a decorated example function\n"
     ]
    }
   ],
   "source": [
    "decorated_example()"
   ]
  },
  {
   "cell_type": "markdown",
   "metadata": {},
   "source": [
    "### Example practical use of decorators: Creating backend for web app"
   ]
  },
  {
   "cell_type": "code",
   "execution_count": null,
   "metadata": {
    "collapsed": true
   },
   "outputs": [],
   "source": []
  }
 ],
 "metadata": {
  "kernelspec": {
   "display_name": "Python 2",
   "language": "python",
   "name": "python2"
  },
  "language_info": {
   "codemirror_mode": {
    "name": "ipython",
    "version": 2
   },
   "file_extension": ".py",
   "mimetype": "text/x-python",
   "name": "python",
   "nbconvert_exporter": "python",
   "pygments_lexer": "ipython2",
   "version": "2.7.11"
  }
 },
 "nbformat": 4,
 "nbformat_minor": 0
}
