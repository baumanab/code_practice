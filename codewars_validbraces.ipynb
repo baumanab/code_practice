{
 "cells": [
  {
   "cell_type": "code",
   "execution_count": null,
   "metadata": {
    "collapsed": true
   },
   "outputs": [],
   "source": [
    "# valid parentheses kata solution\n",
    "\n",
    "def valid_parentheses(string):\n",
    "    \n",
    "    '''Function accepts string returning True if parentheses are matched and False\n",
    "    if not matched'''\n",
    "    open_count = 0\n",
    "    \n",
    "    for c in string:\n",
    "        if c == '(':\n",
    "            open_count += 1\n",
    "        elif c == ')':\n",
    "            open_count -= 1\n",
    "            if open_count < 0:\n",
    "                return False\n",
    "        else:\n",
    "            continue\n",
    "    return open_count == 0"
   ]
  },
  {
   "cell_type": "code",
   "execution_count": 23,
   "metadata": {
    "collapsed": false
   },
   "outputs": [],
   "source": [
    "def validBraces(string):\n",
    "    \n",
    "    \"\"\"Function accepts string returning True if parentheses, braces, and brackets\n",
    "      are matched and False if not matched\"\"\"\n",
    "    \n",
    "    paren_open_count, brack_open_count, brace_open_count = 0, 0, 0 \n",
    "        \n",
    "    open_dict = {'(': 'paren', '[': 'brack', '{': 'brace'}\n",
    "    close_dict = {')': 'paren', ']': 'brack', '}': 'brace'}    \n",
    "   \n",
    "    \n",
    "    for c in string:\n",
    "        \n",
    "        if c in ('()[]{}'):       \n",
    "            \n",
    "            if c == '(':\n",
    "                paren_open_count += 1\n",
    "                open_state = open_dict[c]\n",
    "            elif c == '[':\n",
    "                brack_open_count += 1\n",
    "                open_state = open_dict[c]\n",
    "            elif c == '{':\n",
    "                brace_open_count +=1\n",
    "                open_state = open_dict[c]\n",
    "            elif c == ')':\n",
    "                paren_open_count -= 1\n",
    "                close_state = close_dict[c]\n",
    "                if (paren_open_count < 0) or (close_state != open_state):\n",
    "                    return False\n",
    "            elif c == ']':\n",
    "                brack_open_count -= 1\n",
    "                close_state = close_dict[c]\n",
    "                if (brack_open_count < 0) or (close_state != open_state):\n",
    "                    return False\n",
    "            elif c == '}':\n",
    "                brace_open_count -=1\n",
    "                close_state = close_dict[c]\n",
    "                if (brace_open_count < 0) or (close_state != open_state) :\n",
    "                    return False\n",
    "            else:\n",
    "                continue\n",
    "    return (paren_open_count == 0) and (brack_open_count == 0) and (brack_open_count == 0)\n",
    "    "
   ]
  },
  {
   "cell_type": "code",
   "execution_count": null,
   "metadata": {
    "collapsed": true
   },
   "outputs": [],
   "source": []
  },
  {
   "cell_type": "code",
   "execution_count": 58,
   "metadata": {
    "collapsed": true
   },
   "outputs": [],
   "source": [
    "def validBraces(string):\n",
    "    \n",
    "    \"\"\"Function accepts string returning True if parentheses, braces, and brackets\n",
    "      are matched and False if not matched\"\"\"\n",
    "    \n",
    "    openers = '([{'\n",
    "    closers = ')]}'\n",
    "    close_open_dict = dict(zip(list(closers), list(openers)))\n",
    "    tally = []\n",
    "    \n",
    "    for c in string:\n",
    "        \n",
    "        if c in openers:\n",
    "            tally.append(c) # append to tally if an opener  \n",
    "            # check if only closers (tally empty) or if a mismatch between closer and most recent open\n",
    "        elif not tally or close_open_dict[c] != tally[-1]: \n",
    "            return False # break if only closers or mismatch\n",
    "        else:\n",
    "            tally.pop() # if no mismatch, pop the current opener from tally\n",
    "            \n",
    "    return not tally # true if tally empty\n"
   ]
  },
  {
   "cell_type": "code",
   "execution_count": 59,
   "metadata": {
    "collapsed": false
   },
   "outputs": [
    {
     "data": {
      "text/plain": [
       "True"
      ]
     },
     "execution_count": 59,
     "metadata": {},
     "output_type": "execute_result"
    }
   ],
   "source": [
    "validBraces( \"([{}])\" )"
   ]
  },
  {
   "cell_type": "code",
   "execution_count": 60,
   "metadata": {
    "collapsed": false
   },
   "outputs": [
    {
     "data": {
      "text/plain": [
       "False"
      ]
     },
     "execution_count": 60,
     "metadata": {},
     "output_type": "execute_result"
    }
   ],
   "source": [
    "validBraces(\"[(])\")"
   ]
  },
  {
   "cell_type": "raw",
   "metadata": {},
   "source": [
    "import ipdb"
   ]
  },
  {
   "cell_type": "code",
   "execution_count": 57,
   "metadata": {
    "collapsed": false
   },
   "outputs": [
    {
     "name": "stdout",
     "output_type": "stream",
     "text": [
      "> \u001b[1;32m<ipython-input-54-ca48e6afd56f>\u001b[0m(6)\u001b[0;36mvalidBraces\u001b[1;34m()\u001b[0m\n",
      "\u001b[1;32m      5 \u001b[1;33m\u001b[1;33m\u001b[0m\u001b[0m\n",
      "\u001b[0m\u001b[1;32m----> 6 \u001b[1;33m    \u001b[0mopeners\u001b[0m \u001b[1;33m=\u001b[0m \u001b[1;34m'([{'\u001b[0m\u001b[1;33m\u001b[0m\u001b[0m\n",
      "\u001b[0m\u001b[1;32m      7 \u001b[1;33m    \u001b[0mclosers\u001b[0m \u001b[1;33m=\u001b[0m \u001b[1;34m')]}'\u001b[0m\u001b[1;33m\u001b[0m\u001b[0m\n",
      "\u001b[0m\n",
      "ipdb> n\n",
      "> \u001b[1;32m<ipython-input-54-ca48e6afd56f>\u001b[0m(7)\u001b[0;36mvalidBraces\u001b[1;34m()\u001b[0m\n",
      "\u001b[1;32m      6 \u001b[1;33m    \u001b[0mopeners\u001b[0m \u001b[1;33m=\u001b[0m \u001b[1;34m'([{'\u001b[0m\u001b[1;33m\u001b[0m\u001b[0m\n",
      "\u001b[0m\u001b[1;32m----> 7 \u001b[1;33m    \u001b[0mclosers\u001b[0m \u001b[1;33m=\u001b[0m \u001b[1;34m')]}'\u001b[0m\u001b[1;33m\u001b[0m\u001b[0m\n",
      "\u001b[0m\u001b[1;32m      8 \u001b[1;33m    \u001b[0mclose_open_dict\u001b[0m \u001b[1;33m=\u001b[0m \u001b[0mdict\u001b[0m\u001b[1;33m(\u001b[0m\u001b[0mzip\u001b[0m\u001b[1;33m(\u001b[0m\u001b[0mlist\u001b[0m\u001b[1;33m(\u001b[0m\u001b[0mclosers\u001b[0m\u001b[1;33m)\u001b[0m\u001b[1;33m,\u001b[0m \u001b[0mlist\u001b[0m\u001b[1;33m(\u001b[0m\u001b[0mopeners\u001b[0m\u001b[1;33m)\u001b[0m\u001b[1;33m)\u001b[0m\u001b[1;33m)\u001b[0m\u001b[1;33m\u001b[0m\u001b[0m\n",
      "\u001b[0m\n",
      "ipdb> n\n",
      "> \u001b[1;32m<ipython-input-54-ca48e6afd56f>\u001b[0m(8)\u001b[0;36mvalidBraces\u001b[1;34m()\u001b[0m\n",
      "\u001b[1;32m      7 \u001b[1;33m    \u001b[0mclosers\u001b[0m \u001b[1;33m=\u001b[0m \u001b[1;34m')]}'\u001b[0m\u001b[1;33m\u001b[0m\u001b[0m\n",
      "\u001b[0m\u001b[1;32m----> 8 \u001b[1;33m    \u001b[0mclose_open_dict\u001b[0m \u001b[1;33m=\u001b[0m \u001b[0mdict\u001b[0m\u001b[1;33m(\u001b[0m\u001b[0mzip\u001b[0m\u001b[1;33m(\u001b[0m\u001b[0mlist\u001b[0m\u001b[1;33m(\u001b[0m\u001b[0mclosers\u001b[0m\u001b[1;33m)\u001b[0m\u001b[1;33m,\u001b[0m \u001b[0mlist\u001b[0m\u001b[1;33m(\u001b[0m\u001b[0mopeners\u001b[0m\u001b[1;33m)\u001b[0m\u001b[1;33m)\u001b[0m\u001b[1;33m)\u001b[0m\u001b[1;33m\u001b[0m\u001b[0m\n",
      "\u001b[0m\u001b[1;32m      9 \u001b[1;33m    \u001b[0mtally\u001b[0m \u001b[1;33m=\u001b[0m \u001b[1;33m[\u001b[0m\u001b[1;33m]\u001b[0m\u001b[1;33m\u001b[0m\u001b[0m\n",
      "\u001b[0m\n",
      "ipdb> n\n",
      "> \u001b[1;32m<ipython-input-54-ca48e6afd56f>\u001b[0m(9)\u001b[0;36mvalidBraces\u001b[1;34m()\u001b[0m\n",
      "\u001b[1;32m      8 \u001b[1;33m    \u001b[0mclose_open_dict\u001b[0m \u001b[1;33m=\u001b[0m \u001b[0mdict\u001b[0m\u001b[1;33m(\u001b[0m\u001b[0mzip\u001b[0m\u001b[1;33m(\u001b[0m\u001b[0mlist\u001b[0m\u001b[1;33m(\u001b[0m\u001b[0mclosers\u001b[0m\u001b[1;33m)\u001b[0m\u001b[1;33m,\u001b[0m \u001b[0mlist\u001b[0m\u001b[1;33m(\u001b[0m\u001b[0mopeners\u001b[0m\u001b[1;33m)\u001b[0m\u001b[1;33m)\u001b[0m\u001b[1;33m)\u001b[0m\u001b[1;33m\u001b[0m\u001b[0m\n",
      "\u001b[0m\u001b[1;32m----> 9 \u001b[1;33m    \u001b[0mtally\u001b[0m \u001b[1;33m=\u001b[0m \u001b[1;33m[\u001b[0m\u001b[1;33m]\u001b[0m\u001b[1;33m\u001b[0m\u001b[0m\n",
      "\u001b[0m\u001b[1;32m     10 \u001b[1;33m\u001b[1;33m\u001b[0m\u001b[0m\n",
      "\u001b[0m\n",
      "ipdb> p close_open_dict\n",
      "{')': '(', '}': '{', ']': '['}\n",
      "ipdb> q\n"
     ]
    }
   ],
   "source": [
    "ipdb.runcall(validBraces, \"[(])\")"
   ]
  },
  {
   "cell_type": "code",
   "execution_count": null,
   "metadata": {
    "collapsed": true
   },
   "outputs": [],
   "source": []
  }
 ],
 "metadata": {
  "kernelspec": {
   "display_name": "Python 2",
   "language": "python",
   "name": "python2"
  },
  "language_info": {
   "codemirror_mode": {
    "name": "ipython",
    "version": 2
   },
   "file_extension": ".py",
   "mimetype": "text/x-python",
   "name": "python",
   "nbconvert_exporter": "python",
   "pygments_lexer": "ipython2",
   "version": "2.7.11"
  }
 },
 "nbformat": 4,
 "nbformat_minor": 0
}
