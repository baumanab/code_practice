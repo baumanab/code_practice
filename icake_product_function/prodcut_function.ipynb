{
 "cells": [
  {
   "cell_type": "markdown",
   "metadata": {},
   "source": [
    "## The challenge\n",
    "\n",
    "\n",
    "[Interview Cake Problem 2](https://www.interviewcake.com/question/python/product-of-other-numbers)\n",
    "\n",
    "Write a function get_products_of_all_ints_except_at_index() that takes a list of integers and returns a list of the products.\n",
    "\n",
    "Example: ```[1, 7, 3, 4] --> [84, 12, 28, 21]```\n",
    "\n",
    "I'm trying out test driven development (TDD) focusing on the use of doctest and pytest vs using unittest.  The specificatons are pretty straight forward, the input must be an array where the elements are numbers.  I suppose you could do this with a multidimensional array, but it would be much more efficient to leverage numpy or PANDAS for this, vs. writing our own function.  The description calls for integers, but there is no reason why this fuction couldn't operate on floats.\n",
    "\n",
    "What tests would be useful for developing this function?\n",
    "\n",
    "1. Test for a the return of an accurate result\n",
    "2. Test that if any element is a string that an exception is raised\n",
    "3. Test that function can handle zeroes\n",
    "\n",
    "There are two scenarios for item 2:\n",
    "- string * number ('3' * 5 --> '33333')\n",
    "- string * string ('3' * '5' --> TypeError)\n",
    "\n",
    "A validator could be written where the array can be check for all elements are ints or all elements are numbers or no elements are strings.  I dont want to get too far out of scope of the challenge. So, I will validate input and check for the return of a failed validation, which should cover both cases.  Just for learning purposes though I will write a third test that makes sure a type error is raised for > 1 string."
   ]
  },
  {
   "cell_type": "markdown",
   "metadata": {},
   "source": [
    "### Write the test file and tests"
   ]
  },
  {
   "cell_type": "code",
   "execution_count": 1,
   "metadata": {
    "collapsed": false
   },
   "outputs": [
    {
     "name": "stdout",
     "output_type": "stream",
     "text": [
      "Overwriting prod_except_index.py\n"
     ]
    }
   ],
   "source": [
    "%%writefile prod_except_index.py\n",
    "\n",
    "def product_except_index(num_list):\n",
    "    \"\"\"Accepts a list (1D array) of numbers and returns a list\n",
    "    of the products for all products at each position excepting the\n",
    "    current postion.  Example: product_except_index([1, 7, 3, 4]) = [84, 12, 28, 21]\n",
    "    \"\"\"\n",
    "    pass"
   ]
  },
  {
   "cell_type": "code",
   "execution_count": 2,
   "metadata": {
    "collapsed": false
   },
   "outputs": [
    {
     "name": "stdout",
     "output_type": "stream",
     "text": [
      "Overwriting test_prod_except_index.py\n"
     ]
    }
   ],
   "source": [
    "%%writefile test_prod_except_index.py\n",
    "\n",
    "import pytest\n",
    "from prod_except_index import *\n",
    "\n",
    "\n",
    "def test_product_accuracy():\n",
    "    assert product_except_index([1, 7, 3, 4]) == [84, 12, 28, 21]\n",
    "\n",
    "def test_product_valid_input_one_string():\n",
    "    assert product_except_index([1, '7', 3, 4]) == \"Invalid input, non-number in array\"\n",
    "\n",
    "def test_product_valid_input_gt_one_string():\n",
    "    with pytest.raises(TypeError):\n",
    "        product_except_index([1, '7', 3, '4'])\n",
    "\n",
    "def test_product_input_with_zeroes():\n",
    "    assert product_except_index([0,0,0]) == [0,0,0]\n",
    "\n"
   ]
  },
  {
   "cell_type": "markdown",
   "metadata": {},
   "source": [
    "### Test the Function"
   ]
  },
  {
   "cell_type": "code",
   "execution_count": 3,
   "metadata": {
    "collapsed": false
   },
   "outputs": [
    {
     "name": "stdout",
     "output_type": "stream",
     "text": [
      "============================= test session starts =============================\n",
      "platform win32 -- Python 2.7.11, pytest-2.8.5, py-1.4.31, pluggy-0.3.1\n",
      "rootdir: C:\\Users\\vhim98198\\Downloads\\icake_product_function, inifile: \n",
      "collected 4 items\n",
      "\n",
      "test_prod_except_index.py FFFF\n",
      "\n",
      "================================== FAILURES ===================================\n",
      "____________________________ test_product_accuracy ____________________________\n",
      "\n",
      "    def test_product_accuracy():\n",
      ">       assert product_except_index([1, 7, 3, 4]) == [84, 12, 28, 21]\n",
      "E       assert None == [84, 12, 28, 21]\n",
      "E        +  where None = product_except_index([1, 7, 3, 4])\n",
      "\n",
      "test_prod_except_index.py:7: AssertionError\n",
      "_____________________ test_product_valid_input_one_string _____________________\n",
      "\n",
      "    def test_product_valid_input_one_string():\n",
      ">       assert product_except_index([1, '7', 3, 4]) == \"Invalid input, non-number in array\"\n",
      "E       assert None == 'Invalid input, non-number in array'\n",
      "E        +  where None = product_except_index([1, '7', 3, 4])\n",
      "\n",
      "test_prod_except_index.py:10: AssertionError\n",
      "___________________ test_product_valid_input_gt_one_string ____________________\n",
      "\n",
      "    def test_product_valid_input_gt_one_string():\n",
      "        with pytest.raises(TypeError):\n",
      ">           product_except_index([1, '7', 3, '4'])\n",
      "E           Failed: DID NOT RAISE\n",
      "\n",
      "test_prod_except_index.py:14: Failed\n",
      "_______________________ test_product_input_with_zeroes ________________________\n",
      "\n",
      "    def test_product_input_with_zeroes():\n",
      ">       assert product_except_index([0,0,0]) == [0,0,0]\n",
      "E       assert None == [0, 0, 0]\n",
      "E        +  where None = product_except_index([0, 0, 0])\n",
      "\n",
      "test_prod_except_index.py:17: AssertionError\n",
      "========================== 4 failed in 0.16 seconds ===========================\n"
     ]
    }
   ],
   "source": [
    "!py.test test_prod_except_index.py"
   ]
  },
  {
   "cell_type": "markdown",
   "metadata": {},
   "source": [
    "### Result\n",
    "\n",
    "Yay it failed, this is what we want. If this had passed, something would be seriously wrong."
   ]
  },
  {
   "cell_type": "markdown",
   "metadata": {},
   "source": [
    "### Re-write the function"
   ]
  },
  {
   "cell_type": "code",
   "execution_count": 4,
   "metadata": {
    "collapsed": false
   },
   "outputs": [
    {
     "name": "stdout",
     "output_type": "stream",
     "text": [
      "Overwriting prod_except_index.py\n"
     ]
    }
   ],
   "source": [
    "%%writefile prod_except_index.py\n",
    "\n",
    "def product_except_index(num_list):\n",
    "    \"\"\"Accepts a list (1D array) of numbers and returns a list\n",
    "    of the products for all products at each position excepting the\n",
    "    current postion.  Example: product_except_index([1, 7, 3, 4]) = [84, 12, 28, 21]\n",
    "    \"\"\"\n",
    "    out_list = list()\n",
    "    for index, val in enumerate(num_list):\n",
    "        if isinstance(val, (int, long, float, complex)) == False:\n",
    "            return \"Invalid input, non-number in array\"\n",
    "        else:\n",
    "            product = 1 # initialize product\n",
    "            popped = num_list.pop(index)\n",
    "            for item in num_list:\n",
    "                product *= item\n",
    "            out_list.append(product)\n",
    "            num_list.insert(index, val)\n",
    "        \n",
    "        \n",
    "    return out_list\n",
    "            "
   ]
  },
  {
   "cell_type": "code",
   "execution_count": 5,
   "metadata": {
    "collapsed": false
   },
   "outputs": [
    {
     "name": "stdout",
     "output_type": "stream",
     "text": [
      "============================= test session starts =============================\n",
      "platform win32 -- Python 2.7.11, pytest-2.8.5, py-1.4.31, pluggy-0.3.1\n",
      "rootdir: C:\\Users\\vhim98198\\Downloads\\icake_product_function, inifile: \n",
      "collected 4 items\n",
      "\n",
      "test_prod_except_index.py ....\n",
      "\n",
      "========================== 4 passed in 0.05 seconds ===========================\n"
     ]
    }
   ],
   "source": [
    "!py.test test_prod_except_index.py"
   ]
  },
  {
   "cell_type": "markdown",
   "metadata": {},
   "source": [
    "### Result\n",
    "\n",
    "The tests passed which is good, but the functiion uses two loops which means it scales at the less than ideal O(n^2). I'm going to investigate the following approaches.\n",
    "\n",
    "- Use PANDAS series with pop method (applied to series)\n",
    "- Use numpy delete method with numpy vectorized prodcut function\n",
    "- Use pop method on list but calculate product with numpy vectorized product function\n",
    "- Compare the timing of each approach the Interview Cake published solution "
   ]
  },
  {
   "cell_type": "markdown",
   "metadata": {},
   "source": [
    "### Setup the functions"
   ]
  },
  {
   "cell_type": "code",
   "execution_count": 2,
   "metadata": {
    "collapsed": false
   },
   "outputs": [
    {
     "name": "stdout",
     "output_type": "stream",
     "text": [
      "Overwriting prod_except_index.py\n"
     ]
    }
   ],
   "source": [
    "%%writefile prod_except_index.py\n",
    "\n",
    "import numpy as np\n",
    "import pandas as pd\n",
    "\n",
    "def product_except_index_pd(num_list):\n",
    "    \"\"\"Accepts a list (1D array) of numbers and returns a list\n",
    "    of the products for all products at each position excepting the\n",
    "    current postion.  Example: product_except_index([1, 7, 3, 4]) = [84, 12, 28, 21]\n",
    "    \"\"\"\n",
    "    \n",
    "    out_list = list()\n",
    "    num_series = pd.Series(num_list)\n",
    "    \n",
    "    for index, val in enumerate(num_list):\n",
    "        if (num_series.dtype == 'int64') or (num_series.dtype == 'float64'):\n",
    "            num_series[index] = 1\n",
    "            product = num_series.product()     \n",
    "            out_list.append(product)\n",
    "            num_series[index] = val\n",
    "        else:\n",
    "            return \"Invalid input, non-number in array\"\n",
    "    \n",
    "    return out_list\n",
    "\n",
    "\n",
    "def product_except_index_np_del(num_list):\n",
    "    \"\"\"Accepts a list (1D array) of numbers and returns a list\n",
    "    of the products for all products at each position excepting the\n",
    "    current postion.  Example: product_except_index([1, 7, 3, 4]) = [84, 12, 28, 21]\n",
    "    \"\"\"\n",
    "    \n",
    "    out_list = list()\n",
    "    \n",
    "    for index, val in enumerate(num_list):\n",
    "        npX = np.array(num_list)\n",
    "        if (npX.dtype == 'int32') or (npX.dtype == 'float64'):\n",
    "            npX = np.delete(npX, index)\n",
    "            product = np.prod(npX)        \n",
    "            out_list.append(product)\n",
    "        else:\n",
    "            return \"Invalid input, non-number in array\"\n",
    "    \n",
    "    return out_list\n",
    "\n",
    "def product_except_index_np_pop(num_list):\n",
    "    \"\"\"Accepts a list (1D array) of numbers and returns a list\n",
    "    of the products for all products at each position excepting the\n",
    "    current postion.  Example: product_except_index([1, 7, 3, 4]) = [84, 12, 28, 21]\n",
    "    \"\"\"\n",
    "    \n",
    "    out_list = list()\n",
    "    \n",
    "    for index, val in enumerate(num_list):\n",
    "        num_list.pop(index)\n",
    "        npX = np.array(num_list)\n",
    "        if (npX.dtype == 'int32') or (npX.dtype == 'float64'):\n",
    "            product = np.prod(npX)        \n",
    "            out_list.append(product)\n",
    "            num_list.insert(index, val)\n",
    "        else:\n",
    "            return \"Invalid input, non-number in array\"\n",
    "    \n",
    "    return out_list\n",
    "\n",
    "\n",
    "def product_except_index(num_list):\n",
    "    \"\"\"Accepts a list (1D array) of numbers and returns a list\n",
    "    of the products for all products at each position excepting the\n",
    "    current postion.  Example: product_except_index([1, 7, 3, 4]) = [84, 12, 28, 21]\n",
    "    \"\"\"\n",
    "    \n",
    "    out_list = list()\n",
    "    for index, val in enumerate(num_list):\n",
    "        if isinstance(val, (int, long, float, complex)) == False:\n",
    "            return \"Invalid input, non-number in array\"\n",
    "        else:\n",
    "            product = 1 # initialize product\n",
    "            popped = num_list.pop(index)\n",
    "            for item in num_list:\n",
    "                product *= item\n",
    "            out_list.append(product)\n",
    "            num_list.insert(index, val)\n",
    "        \n",
    "        \n",
    "    return out_list\n",
    "\n",
    "# Interview Cake solution\n",
    "\n",
    "def get_products_of_all_ints_except_at_index(int_list):\n",
    "\n",
    "    # we make a list with the length of the input list to\n",
    "    # hold our products\n",
    "    products_of_all_ints_except_at_index = [None] * len(int_list)\n",
    "\n",
    "    # for each integer, we find the product of all the integers\n",
    "    # before it, storing the total product so far each time\n",
    "    product_so_far = 1\n",
    "    i = 0\n",
    "    while i < len(int_list):\n",
    "        products_of_all_ints_except_at_index[i] = product_so_far\n",
    "        product_so_far *= int_list[i]\n",
    "        i += 1\n",
    "\n",
    "    # for each integer, we find the product of all the integers\n",
    "    # after it. since each index in products already has the\n",
    "    # product of all the integers before it, now we're storing\n",
    "    # the total product of all other integers\n",
    "    product_so_far = 1\n",
    "    i = len(int_list) - 1\n",
    "    while i >= 0:\n",
    "        products_of_all_ints_except_at_index[i] *= product_so_far\n",
    "        product_so_far *= int_list[i]\n",
    "        i -= 1\n",
    "\n",
    "    return products_of_all_ints_except_at_index"
   ]
  },
  {
   "cell_type": "markdown",
   "metadata": {},
   "source": [
    "### Test the functions"
   ]
  },
  {
   "cell_type": "code",
   "execution_count": 3,
   "metadata": {
    "collapsed": false
   },
   "outputs": [
    {
     "name": "stdout",
     "output_type": "stream",
     "text": [
      "Overwriting test_prod_except_index_np_pop.py\n"
     ]
    }
   ],
   "source": [
    "%%writefile test_prod_except_index_np_pop.py\n",
    "\n",
    "import pytest\n",
    "from prod_except_index import *\n",
    "\n",
    "\n",
    "def test_product_accuracy():\n",
    "    assert product_except_index_np_pop([1, 7, 3, 4]) == [84, 12, 28, 21]\n",
    "\n",
    "def test_product_valid_input_one_string():\n",
    "    assert product_except_index_np_pop([1, '7', 3, 4]) == \"Invalid input, non-number in array\"\n",
    "\n",
    "def test_product_input_with_zeroes():\n",
    "    assert product_except_index_np_pop([0,0,0]) == [0,0,0]\n"
   ]
  },
  {
   "cell_type": "code",
   "execution_count": 4,
   "metadata": {
    "collapsed": false
   },
   "outputs": [
    {
     "name": "stdout",
     "output_type": "stream",
     "text": [
      "============================= test session starts =============================\n",
      "platform win32 -- Python 2.7.11, pytest-2.8.5, py-1.4.31, pluggy-0.3.1\n",
      "rootdir: C:\\Users\\vhim98198\\Downloads\\icake_product_function, inifile: \n",
      "collected 3 items\n",
      "\n",
      "test_prod_except_index_np_pop.py ...\n",
      "\n",
      "========================== 3 passed in 18.72 seconds ==========================\n"
     ]
    }
   ],
   "source": [
    "!py.test test_prod_except_index_np_pop.py"
   ]
  },
  {
   "cell_type": "code",
   "execution_count": 9,
   "metadata": {
    "collapsed": false
   },
   "outputs": [
    {
     "name": "stdout",
     "output_type": "stream",
     "text": [
      "Overwriting test_prod_except_index_np_del.py\n"
     ]
    }
   ],
   "source": [
    "%%writefile test_prod_except_index_np_del.py\n",
    "\n",
    "import pytest\n",
    "from prod_except_index import *\n",
    "\n",
    "\n",
    "def test_product_accuracy():\n",
    "    assert product_except_index_np_del([1, 7, 3, 4]) == [84, 12, 28, 21]\n",
    "\n",
    "def test_product_valid_input_one_string():\n",
    "    assert product_except_index_np_del([1, '7', 3, 4]) == \"Invalid input, non-number in array\"\n",
    "\n",
    "def test_product_input_with_zeroes():\n",
    "    assert product_except_index_np_del([0,0,0]) == [0,0,0]\n"
   ]
  },
  {
   "cell_type": "code",
   "execution_count": 10,
   "metadata": {
    "collapsed": false
   },
   "outputs": [
    {
     "name": "stdout",
     "output_type": "stream",
     "text": [
      "============================= test session starts =============================\n",
      "platform win32 -- Python 2.7.11, pytest-2.8.5, py-1.4.31, pluggy-0.3.1\n",
      "rootdir: C:\\Users\\vhim98198\\Downloads\\icake_product_function, inifile: \n",
      "collected 3 items\n",
      "\n",
      "test_prod_except_index_np_del.py ...\n",
      "\n",
      "========================== 3 passed in 2.50 seconds ===========================\n"
     ]
    }
   ],
   "source": [
    "!py.test test_prod_except_index_np_del.py"
   ]
  },
  {
   "cell_type": "code",
   "execution_count": 11,
   "metadata": {
    "collapsed": false
   },
   "outputs": [
    {
     "name": "stdout",
     "output_type": "stream",
     "text": [
      "Overwriting test_prod_except_index_pd.py\n"
     ]
    }
   ],
   "source": [
    "%%writefile test_prod_except_index_pd.py\n",
    "\n",
    "import pytest\n",
    "from prod_except_index import *\n",
    "\n",
    "\n",
    "def test_product_accuracy():\n",
    "    assert product_except_index_pd([1, 7, 3, 4]) == [84, 12, 28, 21]\n",
    "\n",
    "def test_product_valid_input_one_string():\n",
    "    assert product_except_index_pd([1, '7', 3, 4]) == \"Invalid input, non-number in array\"\n",
    "\n",
    "def test_product_input_with_zeroes():\n",
    "    assert product_except_index_pd([0,0,0]) == [0,0,0]\n"
   ]
  },
  {
   "cell_type": "code",
   "execution_count": 12,
   "metadata": {
    "collapsed": false
   },
   "outputs": [
    {
     "name": "stdout",
     "output_type": "stream",
     "text": [
      "============================= test session starts =============================\n",
      "platform win32 -- Python 2.7.11, pytest-2.8.5, py-1.4.31, pluggy-0.3.1\n",
      "rootdir: C:\\Users\\vhim98198\\Downloads\\icake_product_function, inifile: \n",
      "collected 3 items\n",
      "\n",
      "test_prod_except_index_pd.py ...\n",
      "\n",
      "========================== 3 passed in 2.45 seconds ===========================\n"
     ]
    }
   ],
   "source": [
    "!py.test test_prod_except_index_pd.py"
   ]
  },
  {
   "cell_type": "code",
   "execution_count": 13,
   "metadata": {
    "collapsed": false
   },
   "outputs": [
    {
     "name": "stdout",
     "output_type": "stream",
     "text": [
      "Overwriting test_icake_solution.py\n"
     ]
    }
   ],
   "source": [
    "%%writefile test_icake_solution.py\n",
    "\n",
    "import pytest\n",
    "from prod_except_index import *\n",
    "\n",
    "\n",
    "def test_product_accuracy():\n",
    "    assert get_products_of_all_ints_except_at_index([1, 7, 3, 4]) == [84, 12, 28, 21]\n",
    "\n",
    "def test_product_valid_input_one_string():\n",
    "    assert get_products_of_all_ints_except_at_index([1, '7', 3, 4]) == \"Invalid input, non-number in array\"\n",
    "\n",
    "def test_product_input_with_zeroes():\n",
    "    assert get_products_of_all_ints_except_at_index([0,0,0]) == [0,0,0]\n"
   ]
  },
  {
   "cell_type": "code",
   "execution_count": 14,
   "metadata": {
    "collapsed": false
   },
   "outputs": [
    {
     "name": "stdout",
     "output_type": "stream",
     "text": [
      "============================= test session starts =============================\n",
      "platform win32 -- Python 2.7.11, pytest-2.8.5, py-1.4.31, pluggy-0.3.1\n",
      "rootdir: C:\\Users\\vhim98198\\Downloads\\icake_product_function, inifile: \n",
      "collected 3 items\n",
      "\n",
      "test_icake_solution.py .F.\n",
      "\n",
      "================================== FAILURES ===================================\n",
      "_____________________ test_product_valid_input_one_string _____________________\n",
      "\n",
      "    def test_product_valid_input_one_string():\n",
      ">       assert get_products_of_all_ints_except_at_index([1, '7', 3, 4]) == \"Invalid input, non-number in array\"\n",
      "E       assert ['777777777777', 12, '7777', '777'] == 'Invalid input, non-number in array'\n",
      "E        +  where ['777777777777', 12, '7777', '777'] = get_products_of_all_ints_except_at_index([1, '7', 3, 4])\n",
      "\n",
      "test_icake_solution.py:10: AssertionError\n",
      "===================== 1 failed, 2 passed in 2.50 seconds ======================\n"
     ]
    }
   ],
   "source": [
    "!py.test test_icake_solution.py"
   ]
  },
  {
   "cell_type": "markdown",
   "metadata": {},
   "source": [
    "### Compare time to run using cell magics\n",
    "\n",
    "- Compare with a small list (n = 4)\n",
    "- Compare with a larger (n = 100) list"
   ]
  },
  {
   "cell_type": "code",
   "execution_count": 15,
   "metadata": {
    "collapsed": true
   },
   "outputs": [],
   "source": [
    "import numpy as np\n",
    "import pandas as pd"
   ]
  },
  {
   "cell_type": "code",
   "execution_count": 21,
   "metadata": {
    "collapsed": false
   },
   "outputs": [],
   "source": [
    "from prod_except_index import *  "
   ]
  },
  {
   "cell_type": "code",
   "execution_count": 17,
   "metadata": {
    "collapsed": false
   },
   "outputs": [],
   "source": [
    "%load_ext memory_profiler"
   ]
  },
  {
   "cell_type": "code",
   "execution_count": 18,
   "metadata": {
    "collapsed": true
   },
   "outputs": [],
   "source": [
    "small_list = [1, 7, 3, 4]"
   ]
  },
  {
   "cell_type": "code",
   "execution_count": 23,
   "metadata": {
    "collapsed": false
   },
   "outputs": [
    {
     "name": "stdout",
     "output_type": "stream",
     "text": [
      "10000 loops, best of 3: 28.3 µs per loop\n"
     ]
    }
   ],
   "source": [
    "%%timeit\n",
    "product_except_index(small_list)"
   ]
  },
  {
   "cell_type": "code",
   "execution_count": 26,
   "metadata": {
    "collapsed": false
   },
   "outputs": [
    {
     "name": "stdout",
     "output_type": "stream",
     "text": [
      "1000 loops, best of 3: 438 µs per loop\n"
     ]
    }
   ],
   "source": [
    "%%timeit\n",
    "product_except_index_np_del(small_list)"
   ]
  },
  {
   "cell_type": "code",
   "execution_count": 27,
   "metadata": {
    "collapsed": false
   },
   "outputs": [
    {
     "name": "stdout",
     "output_type": "stream",
     "text": [
      "10000 loops, best of 3: 170 µs per loop\n"
     ]
    }
   ],
   "source": [
    "%%timeit\n",
    "product_except_index_np_pop(small_list)"
   ]
  },
  {
   "cell_type": "code",
   "execution_count": 32,
   "metadata": {
    "collapsed": false
   },
   "outputs": [
    {
     "name": "stdout",
     "output_type": "stream",
     "text": [
      "1000 loops, best of 3: 1.6 ms per loop\n"
     ]
    }
   ],
   "source": [
    "%%timeit\n",
    "product_except_index_pd(small_list)"
   ]
  },
  {
   "cell_type": "code",
   "execution_count": 31,
   "metadata": {
    "collapsed": false
   },
   "outputs": [
    {
     "name": "stdout",
     "output_type": "stream",
     "text": [
      "100000 loops, best of 3: 9.03 µs per loop\n"
     ]
    }
   ],
   "source": [
    "%%timeit\n",
    "get_products_of_all_ints_except_at_index(small_list)"
   ]
  },
  {
   "cell_type": "code",
   "execution_count": 35,
   "metadata": {
    "collapsed": true
   },
   "outputs": [],
   "source": [
    "np.random.seed(0)"
   ]
  },
  {
   "cell_type": "code",
   "execution_count": 44,
   "metadata": {
    "collapsed": false
   },
   "outputs": [],
   "source": [
    "large_list = np.random.randint(10, size = 100 )\n",
    "large_list = list(large_list)"
   ]
  },
  {
   "cell_type": "code",
   "execution_count": 45,
   "metadata": {
    "collapsed": false
   },
   "outputs": [
    {
     "name": "stdout",
     "output_type": "stream",
     "text": [
      "100 loops, best of 3: 5.61 ms per loop\n"
     ]
    }
   ],
   "source": [
    "%%timeit\n",
    "product_except_index(large_list)"
   ]
  },
  {
   "cell_type": "code",
   "execution_count": 49,
   "metadata": {
    "collapsed": false
   },
   "outputs": [
    {
     "name": "stdout",
     "output_type": "stream",
     "text": [
      "100 loops, best of 3: 13.7 ms per loop\n"
     ]
    }
   ],
   "source": [
    "%%timeit\n",
    "product_except_index_np_del(large_list)"
   ]
  },
  {
   "cell_type": "code",
   "execution_count": 48,
   "metadata": {
    "collapsed": false
   },
   "outputs": [
    {
     "name": "stdout",
     "output_type": "stream",
     "text": [
      "100 loops, best of 3: 7.5 ms per loop\n"
     ]
    }
   ],
   "source": [
    "%%timeit\n",
    "product_except_index_np_pop(large_list)"
   ]
  },
  {
   "cell_type": "code",
   "execution_count": 47,
   "metadata": {
    "collapsed": false
   },
   "outputs": [
    {
     "name": "stdout",
     "output_type": "stream",
     "text": [
      "10 loops, best of 3: 26.4 ms per loop\n"
     ]
    }
   ],
   "source": [
    "%%timeit\n",
    "product_except_index_pd(large_list)"
   ]
  },
  {
   "cell_type": "code",
   "execution_count": 46,
   "metadata": {
    "collapsed": false
   },
   "outputs": [
    {
     "name": "stdout",
     "output_type": "stream",
     "text": [
      "1000 loops, best of 3: 253 µs per loop\n"
     ]
    }
   ],
   "source": [
    "%%timeit\n",
    "get_products_of_all_ints_except_at_index(large_list)"
   ]
  },
  {
   "cell_type": "markdown",
   "metadata": {},
   "source": [
    "### Result\n",
    "\n",
    "The Interview Cake function is the clear winner."
   ]
  }
 ],
 "metadata": {
  "kernelspec": {
   "display_name": "Python 2",
   "language": "python",
   "name": "python2"
  },
  "language_info": {
   "codemirror_mode": {
    "name": "ipython",
    "version": 2
   },
   "file_extension": ".py",
   "mimetype": "text/x-python",
   "name": "python",
   "nbconvert_exporter": "python",
   "pygments_lexer": "ipython2",
   "version": "2.7.11"
  }
 },
 "nbformat": 4,
 "nbformat_minor": 0
}
